{
  "nbformat": 4,
  "nbformat_minor": 0,
  "metadata": {
    "colab": {
      "provenance": [],
      "authorship_tag": "ABX9TyON/BsLSKFZ3Yzyk4ItJHdm",
      "include_colab_link": true
    },
    "kernelspec": {
      "name": "python3",
      "display_name": "Python 3"
    },
    "language_info": {
      "name": "python"
    }
  },
  "cells": [
    {
      "cell_type": "markdown",
      "metadata": {
        "id": "view-in-github",
        "colab_type": "text"
      },
      "source": [
        "<a href=\"https://colab.research.google.com/github/roshniharinkhede/python_projects/blob/main/Rock_Paper_Scissors.ipynb\" target=\"_parent\"><img src=\"https://colab.research.google.com/assets/colab-badge.svg\" alt=\"Open In Colab\"/></a>"
      ]
    },
    {
      "cell_type": "code",
      "execution_count": 1,
      "metadata": {
        "id": "KPUZDhOA6-kS"
      },
      "outputs": [],
      "source": [
        "import random"
      ]
    },
    {
      "cell_type": "code",
      "source": [
        "choises=[\"rock\",\"paper\",\"scissors\"]"
      ],
      "metadata": {
        "id": "nIH0GTBD7EIv"
      },
      "execution_count": 2,
      "outputs": []
    },
    {
      "cell_type": "code",
      "source": [
        "computer=random.choice(choises)"
      ],
      "metadata": {
        "id": "IZJ2Op4-7lnv"
      },
      "execution_count": 3,
      "outputs": []
    },
    {
      "cell_type": "code",
      "source": [
        "playesr = False"
      ],
      "metadata": {
        "id": "nOwSZW_K72R_"
      },
      "execution_count": 4,
      "outputs": []
    },
    {
      "cell_type": "code",
      "source": [
        "cpu_score=0"
      ],
      "metadata": {
        "id": "mItfa0rC7-vN"
      },
      "execution_count": 5,
      "outputs": []
    },
    {
      "cell_type": "code",
      "source": [
        "player_scrore=0"
      ],
      "metadata": {
        "id": "KaMd-Z_D8CUc"
      },
      "execution_count": 13,
      "outputs": []
    },
    {
      "cell_type": "code",
      "source": [
        "while True:\n",
        "  player = input(\"Rock, Paper or  Scissors?\").capitalize()\n",
        "  if player == computer:\n",
        "        print(\"Tie!\")\n",
        "  elif player == \"Rock\":\n",
        "        if computer == \"Paper\":\n",
        "            print(\"You lose!\", computer, \"covers\", player)\n",
        "            cpu_score+=1\n",
        "        else:\n",
        "            print(\"You win!\", player, \"smashes\", computer)\n",
        "            player_score+=1\n",
        "  elif player == \"Paper\":\n",
        "        if computer == \"Scissors\":\n",
        "            print(\"You lose!\", computer, \"cut\", player)\n",
        "            cpu_score+=1\n",
        "        else:\n",
        "            print(\"You win!\", player, \"covers\", computer)\n",
        "            player_score+=1\n",
        "  elif player == \"Scissors\":\n",
        "        if computer == \"Rock\":\n",
        "            print(\"You lose...\", computer, \"smashes\", player)\n",
        "            cpu_score+=1\n",
        "        else:\n",
        "            print(\"You win!\", player, \"cut\", computer)\n",
        "            player_score+=1\n",
        "  elif player=='End':\n",
        "        print(\"Final Scores:\")\n",
        "        print(f\"CPU:{cpu_score}\")\n",
        "        print(f\"Plaer:{player_score}\")\n",
        "        break"
      ],
      "metadata": {
        "colab": {
          "base_uri": "https://localhost:8080/"
        },
        "id": "kXN_8geo9Oow",
        "outputId": "49a0f865-dd25-48e1-dcea-afbd50e81e85"
      },
      "execution_count": 20,
      "outputs": [
        {
          "output_type": "stream",
          "name": "stdout",
          "text": [
            "Rock, Paper or  Scissors?Paper\n",
            "You win! Paper covers rock\n",
            "Rock, Paper or  Scissors?Rock\n",
            "You win! Rock smashes rock\n",
            "Rock, Paper or  Scissors?Scissors\n",
            "You win! Scissors cut rock\n",
            "Rock, Paper or  Scissors?Rock\n",
            "You win! Rock smashes rock\n",
            "Rock, Paper or  Scissors?Scissor\n",
            "Rock, Paper or  Scissors?Scissors\n",
            "You win! Scissors cut rock\n",
            "Rock, Paper or  Scissors?End\n",
            "Final Scores:\n",
            "CPU:0\n",
            "Plaer:5\n"
          ]
        }
      ]
    },
    {
      "cell_type": "code",
      "source": [],
      "metadata": {
        "id": "i-LF70Yj-ngJ"
      },
      "execution_count": 20,
      "outputs": []
    }
  ]
}