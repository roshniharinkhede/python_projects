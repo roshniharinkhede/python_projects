{
  "nbformat": 4,
  "nbformat_minor": 0,
  "metadata": {
    "colab": {
      "provenance": [],
      "authorship_tag": "ABX9TyPuqG0kQ8/39ag2L4QXpM4M",
      "include_colab_link": true
    },
    "kernelspec": {
      "name": "python3",
      "display_name": "Python 3"
    },
    "language_info": {
      "name": "python"
    }
  },
  "cells": [
    {
      "cell_type": "markdown",
      "metadata": {
        "id": "view-in-github",
        "colab_type": "text"
      },
      "source": [
        "<a href=\"https://colab.research.google.com/github/roshniharinkhede/python_projects/blob/main/email_slicer.ipynb\" target=\"_parent\"><img src=\"https://colab.research.google.com/assets/colab-badge.svg\" alt=\"Open In Colab\"/></a>"
      ]
    },
    {
      "cell_type": "code",
      "execution_count": 1,
      "metadata": {
        "colab": {
          "base_uri": "https://localhost:8080/"
        },
        "id": "jvYJmqMYtk0-",
        "outputId": "cb5ac5d8-5c0e-43c2-fb26-9bfad930142e"
      },
      "outputs": [
        {
          "name": "stdout",
          "output_type": "stream",
          "text": [
            "enter your emailid: roshniharinkhede22@gmail.com\n"
          ]
        }
      ],
      "source": [
        "email=input(\"enter your emailid: \").strip()"
      ]
    },
    {
      "cell_type": "code",
      "source": [
        "username=email[:email.index(\"@\")]"
      ],
      "metadata": {
        "id": "EMlRoBtHuqDf"
      },
      "execution_count": 2,
      "outputs": []
    },
    {
      "cell_type": "code",
      "source": [
        "domainname=email[email.index(\"@\")+1:]"
      ],
      "metadata": {
        "id": "-Si7iMBFvSaQ"
      },
      "execution_count": 5,
      "outputs": []
    },
    {
      "cell_type": "code",
      "source": [
        "format_ = (f\"your user name is'{username}'and your domain name is'{domainname}'\" )"
      ],
      "metadata": {
        "id": "GAe0rEnEvfm_"
      },
      "execution_count": 6,
      "outputs": []
    },
    {
      "cell_type": "code",
      "source": [
        "print(format_)"
      ],
      "metadata": {
        "colab": {
          "base_uri": "https://localhost:8080/"
        },
        "id": "_O2nKcLhwjiD",
        "outputId": "5b04e87b-4827-4939-fd77-48011ef59e30"
      },
      "execution_count": 7,
      "outputs": [
        {
          "output_type": "stream",
          "name": "stdout",
          "text": [
            "your user name is'roshniharinkhede22'and your domain name is'gmail.com'\n"
          ]
        }
      ]
    },
    {
      "cell_type": "code",
      "source": [],
      "metadata": {
        "id": "kfjxv-Bcwx2T"
      },
      "execution_count": null,
      "outputs": []
    }
  ]
}