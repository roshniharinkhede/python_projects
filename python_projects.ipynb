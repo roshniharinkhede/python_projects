{
  "nbformat": 4,
  "nbformat_minor": 0,
  "metadata": {
    "colab": {
      "provenance": [],
      "authorship_tag": "ABX9TyPOl8/rHkkKuou5Tz9UNs7o",
      "include_colab_link": true
    },
    "kernelspec": {
      "name": "python3",
      "display_name": "Python 3"
    },
    "language_info": {
      "name": "python"
    }
  },
  "cells": [
    {
      "cell_type": "markdown",
      "metadata": {
        "id": "view-in-github",
        "colab_type": "text"
      },
      "source": [
        "<a href=\"https://colab.research.google.com/github/roshniharinkhede/python_projects/blob/main/python_projects.ipynb\" target=\"_parent\"><img src=\"https://colab.research.google.com/assets/colab-badge.svg\" alt=\"Open In Colab\"/></a>"
      ]
    },
    {
      "cell_type": "code",
      "execution_count": null,
      "metadata": {
        "colab": {
          "base_uri": "https://localhost:8080/"
        },
        "id": "z2VPaFptAcqv",
        "outputId": "c7a11ae2-9b35-4bce-dd59-2b7be2e4c796"
      },
      "outputs": [
        {
          "name": "stdout",
          "output_type": "stream",
          "text": [
            "enter a para:i am a data scientist\n"
          ]
        }
      ],
      "source": [
        "#Create Acronyms\n",
        "\n",
        "user_input = str(input(\"enter a para:\"))"
      ]
    },
    {
      "cell_type": "code",
      "source": [
        "text = user_input.split()"
      ],
      "metadata": {
        "id": "zzX1TbcoAqNb"
      },
      "execution_count": null,
      "outputs": []
    },
    {
      "cell_type": "code",
      "source": [
        "a = \" \""
      ],
      "metadata": {
        "id": "wpjKyh4IA8y2"
      },
      "execution_count": null,
      "outputs": []
    },
    {
      "cell_type": "code",
      "source": [
        "for i in text:\n",
        "  a = a+str(i[0].upper())"
      ],
      "metadata": {
        "id": "ZuTS5BxYBKc9"
      },
      "execution_count": null,
      "outputs": []
    },
    {
      "cell_type": "code",
      "source": [
        "print (a)"
      ],
      "metadata": {
        "colab": {
          "base_uri": "https://localhost:8080/"
        },
        "id": "CeyAgDpQBhmG",
        "outputId": "2d9c2912-5e84-4c55-8a01-ac794f58b766"
      },
      "execution_count": null,
      "outputs": [
        {
          "output_type": "stream",
          "name": "stdout",
          "text": [
            " IAADS\n"
          ]
        }
      ]
    },
    {
      "cell_type": "code",
      "source": [
        "###########################################################################################################"
      ],
      "metadata": {
        "id": "uRGtjYqNBkAM"
      },
      "execution_count": null,
      "outputs": []
    },
    {
      "cell_type": "markdown",
      "source": [
        "2. project Alarm clock with python"
      ],
      "metadata": {
        "id": "77PfuPDgFgUZ"
      }
    },
    {
      "cell_type": "code",
      "source": [
        "from datetime import datetime"
      ],
      "metadata": {
        "id": "dfqkcC_dF1Y9"
      },
      "execution_count": null,
      "outputs": []
    },
    {
      "cell_type": "code",
      "source": [
        "pip install playsound"
      ],
      "metadata": {
        "colab": {
          "base_uri": "https://localhost:8080/"
        },
        "id": "zijuz2y8iLYn",
        "outputId": "e8e467b6-4f63-43ad-e803-bf40a1feaf14"
      },
      "execution_count": null,
      "outputs": [
        {
          "output_type": "stream",
          "name": "stdout",
          "text": [
            "Looking in indexes: https://pypi.org/simple, https://us-python.pkg.dev/colab-wheels/public/simple/\n",
            "Collecting playsound\n",
            "  Downloading playsound-1.3.0.tar.gz (7.7 kB)\n",
            "Building wheels for collected packages: playsound\n",
            "  Building wheel for playsound (setup.py) ... \u001b[?25l\u001b[?25hdone\n",
            "  Created wheel for playsound: filename=playsound-1.3.0-py3-none-any.whl size=7035 sha256=7761722121bf1a8461ef49b8e8885c21ae404d0a73f81ae1b624de5c5d5ae404\n",
            "  Stored in directory: /root/.cache/pip/wheels/ba/f8/bb/ea57c0146b664dca3a0ada4199b0ecb5f9dfcb7b7e22b65ba2\n",
            "Successfully built playsound\n",
            "Installing collected packages: playsound\n",
            "Successfully installed playsound-1.3.0\n"
          ]
        }
      ]
    },
    {
      "cell_type": "code",
      "source": [
        "from playsound import playsound"
      ],
      "metadata": {
        "colab": {
          "base_uri": "https://localhost:8080/"
        },
        "id": "z-1wScTkh2VV",
        "outputId": "c161bf79-c6cb-444b-813b-b92ce490a771"
      },
      "execution_count": null,
      "outputs": [
        {
          "output_type": "stream",
          "name": "stderr",
          "text": [
            "WARNING:playsound:playsound is relying on another python subprocess. Please use `pip install pygobject` if you want playsound to run more efficiently.\n"
          ]
        }
      ]
    },
    {
      "cell_type": "code",
      "source": [
        "alarm_time = input(\"enter the alarm time to be set:HH:MM:SS/n\")"
      ],
      "metadata": {
        "colab": {
          "base_uri": "https://localhost:8080/"
        },
        "id": "4GOfdSL7ih4w",
        "outputId": "43042814-0dab-4c97-c738-53f9fa12dccf"
      },
      "execution_count": null,
      "outputs": [
        {
          "name": "stdout",
          "output_type": "stream",
          "text": [
            "enter the alarm time to be set:HH:MM:SS/n2:4:30\n"
          ]
        }
      ]
    },
    {
      "cell_type": "code",
      "source": [
        "alarm_hour=alarm_time[0:2]"
      ],
      "metadata": {
        "id": "LESAh7cviHqA"
      },
      "execution_count": null,
      "outputs": []
    },
    {
      "cell_type": "code",
      "source": [
        "alarm_minute=alarm_time[0:4]"
      ],
      "metadata": {
        "id": "TVCjlgTkjV3z"
      },
      "execution_count": null,
      "outputs": []
    },
    {
      "cell_type": "code",
      "source": [
        "alarm_second=alarm_time[3:0]"
      ],
      "metadata": {
        "id": "_iUi-I8kj47o"
      },
      "execution_count": null,
      "outputs": []
    },
    {
      "cell_type": "code",
      "source": [
        "alarm_period=alarm_time[9:11].upper()"
      ],
      "metadata": {
        "id": "R4-1ej-ckFcU"
      },
      "execution_count": null,
      "outputs": []
    },
    {
      "cell_type": "code",
      "source": [
        "print(\"setting up alarm..\")"
      ],
      "metadata": {
        "colab": {
          "base_uri": "https://localhost:8080/"
        },
        "id": "EVU1O-JakZ5U",
        "outputId": "1ea42aac-b5f3-4209-e3c6-24264de3390c"
      },
      "execution_count": null,
      "outputs": [
        {
          "output_type": "stream",
          "name": "stdout",
          "text": [
            "setting up alarm..\n"
          ]
        }
      ]
    },
    {
      "cell_type": "code",
      "source": [
        "while True:\n",
        "  \n",
        "  now = datetime.now()\n",
        "  current_hour=now.Strftime(\"%I\")\n"
      ],
      "metadata": {
        "id": "wGBXhLDYkkS4"
      },
      "execution_count": null,
      "outputs": []
    },
    {
      "cell_type": "code",
      "source": [
        "current_minute=now.strftime(\"%M\")"
      ],
      "metadata": {
        "id": "HnX6yzCjvIT_"
      },
      "execution_count": null,
      "outputs": []
    },
    {
      "cell_type": "code",
      "source": [
        "current_second=now.strftime(\"%S\")"
      ],
      "metadata": {
        "id": "kHhVfPaVwMAb"
      },
      "execution_count": null,
      "outputs": []
    },
    {
      "cell_type": "code",
      "source": [
        "current_period=now.strftime(\"%P\")"
      ],
      "metadata": {
        "id": "cFdFyIQ2wXZw"
      },
      "execution_count": null,
      "outputs": []
    },
    {
      "cell_type": "code",
      "source": [
        "if (alarm_period==current_period):\n",
        "  if(alarm_hour==current_hour):\n",
        "    if(alarm_minute==current_minute):\n",
        "      if(alarm_second==current_second):\n",
        "        print(\"wake up!\")\n",
        "        playsound(\"mixkit-classic-short-alarm-993\")"
      ],
      "metadata": {
        "id": "dE98KaNgwicU"
      },
      "execution_count": null,
      "outputs": []
    },
    {
      "cell_type": "code",
      "source": [],
      "metadata": {
        "id": "BdyP8ofCyHzJ"
      },
      "execution_count": null,
      "outputs": []
    }
  ]
}